{
 "cells": [
  {
   "cell_type": "markdown",
   "metadata": {},
   "source": [
    "# Scrabble"
   ]
  },
  {
   "cell_type": "markdown",
   "metadata": {},
   "source": [
    "In this project, you will process some data from a group of friends playing scrabble. You will use dictionaries to organize players, words, and points.\n",
    "\n",
    "There are many ways you can extend this project on your own if you finish and want to get more practice!"
   ]
  },
  {
   "cell_type": "markdown",
   "metadata": {},
   "source": [
    "## Build your Point Dictionary"
   ]
  },
  {
   "cell_type": "code",
   "execution_count": 2,
   "metadata": {},
   "outputs": [],
   "source": [
    "letters = [\"A\", \"B\", \"C\", \"D\", \"E\", \"F\", \"G\", \"H\", \"I\", \"J\", \"K\", \"L\", \"M\", \"N\", \"O\", \"P\", \"Q\", \"R\", \"S\", \"T\", \"U\", \"V\", \"W\", \"X\", \"Y\", \"Z\"]\n",
    "points = [1, 3, 3, 2, 1, 4, 2, 4, 1, 8, 5, 1, 3, 4, 1, 3, 10, 1, 1, 1, 1, 4, 4, 8, 4, 10]"
   ]
  },
  {
   "cell_type": "markdown",
   "metadata": {},
   "source": [
    "We have provided you with two lists, `letters` and `points`. We would like to combine these two into a dictionary that would map a letter to its point value.\n",
    "\n",
    "Using a list comprehension and `zip`, create a dictionary called `letter_to_points` that has the elements of `letters` as the keys and the elements of `points` as the values."
   ]
  },
  {
   "cell_type": "code",
   "execution_count": 3,
   "metadata": {},
   "outputs": [
    {
     "name": "stdout",
     "output_type": "stream",
     "text": [
      "{'A': 1, 'B': 3, 'C': 3, 'D': 2, 'E': 1, 'F': 4, 'G': 2, 'H': 4, 'I': 1, 'J': 8, 'K': 5, 'L': 1, 'M': 3, 'N': 4, 'O': 1, 'P': 3, 'Q': 10, 'R': 1, 'S': 1, 'T': 1, 'U': 1, 'V': 4, 'W': 4, 'X': 8, 'Y': 4, 'Z': 10}\n"
     ]
    }
   ],
   "source": [
    "#Dictionary comprehension -- Run this cell\n",
    "letter_to_points = {k:v for k,v in zip(letters,points)}\n",
    "print(letter_to_points)"
   ]
  },
  {
   "cell_type": "markdown",
   "metadata": {},
   "source": [
    "Our letters list did not take into account blank tiles. Add an element to the `letter_to_points` dictionary that has a key of `\" \"` and a point value of `0`."
   ]
  },
  {
   "cell_type": "code",
   "execution_count": null,
   "metadata": {},
   "outputs": [],
   "source": []
  },
  {
   "cell_type": "markdown",
   "metadata": {},
   "source": [
    "## Score a Word"
   ]
  },
  {
   "cell_type": "markdown",
   "metadata": {},
   "source": [
    "We want to create a function that will take in a word and return how many points that word is worth.\n",
    "\n",
    "Define a function called `score_word` that takes in a parameter `word`. \n",
    "\n",
    "    Note: Words must be upper case"
   ]
  },
  {
   "cell_type": "code",
   "execution_count": null,
   "metadata": {},
   "outputs": [],
   "source": [
    "def score_word(word):\n",
    "    pass"
   ]
  },
  {
   "cell_type": "markdown",
   "metadata": {},
   "source": [
    "Inside `score_word`, create a variable called `point_total` and set it to `0`."
   ]
  },
  {
   "cell_type": "code",
   "execution_count": null,
   "metadata": {},
   "outputs": [],
   "source": [
    "def score_word(word):\n",
    "    point_total = 0"
   ]
  },
  {
   "cell_type": "markdown",
   "metadata": {},
   "source": [
    "\n",
    "After defining `point_tota`l, create a for loop that goes through the letters in `word` and adds the point value of each letter to `point_total`.\n",
    "\n",
    "You should get the point value from the `letter_to_points` dictionary. If the letter you are checking for is not in `letter_to_points`, add `0` to the `point_total`."
   ]
  },
  {
   "cell_type": "code",
   "execution_count": 8,
   "metadata": {},
   "outputs": [],
   "source": [
    "def score_word(word):\n",
    "    point_total = 0\n",
    "    for letter in word:\n",
    "        point_total += letter_to_points[letter]\n",
    "    return point_total"
   ]
  },
  {
   "cell_type": "code",
   "execution_count": 10,
   "metadata": {},
   "outputs": [
    {
     "data": {
      "text/plain": [
       "8"
      ]
     },
     "execution_count": 10,
     "metadata": {},
     "output_type": "execute_result"
    }
   ],
   "source": [
    "score_word(\"HELLO\")"
   ]
  },
  {
   "cell_type": "markdown",
   "metadata": {},
   "source": [
    "After the for loop is finished, return `point_total`."
   ]
  },
  {
   "cell_type": "code",
   "execution_count": null,
   "metadata": {},
   "outputs": [],
   "source": []
  },
  {
   "cell_type": "markdown",
   "metadata": {},
   "source": [
    "Let’s test this function! Create a variable called `brownie_points` and set it equal to the value returned by the `score_word()` function with an input of `\"BROWNIE\"`."
   ]
  },
  {
   "cell_type": "code",
   "execution_count": null,
   "metadata": {},
   "outputs": [],
   "source": []
  },
  {
   "cell_type": "markdown",
   "metadata": {},
   "source": [
    "We expect the word BROWNIE to earn 15 points:\n",
    "\n",
    "(B + R + O + W + N + I + E)\n",
    "--------------------------------------\n",
    "(3 + 1 + 1 + 4 + 4 + 1 + 1) =15\n",
    "-----------------------------------------\n",
    "Let’s print out `brownie_points` to make sure we got it right."
   ]
  },
  {
   "cell_type": "code",
   "execution_count": null,
   "metadata": {},
   "outputs": [],
   "source": []
  },
  {
   "cell_type": "markdown",
   "metadata": {},
   "source": [
    "## Score a Game"
   ]
  },
  {
   "cell_type": "markdown",
   "metadata": {},
   "source": [
    "Create a dictionary called `player_to_word`s that maps players to a list of the words they have played. This table represents the data to transcribe into your dictionary:\n"
   ]
  },
  {
   "cell_type": "markdown",
   "metadata": {},
   "source": [
    "| player1 | wordNerd   | Lexi Con |Prof Reader |\n",
    "|---------|------------|----------|------------|\n",
    "|   BLUE  | EARTH      | ERASER   |      ZAP   |\n",
    "| TENNIS  |    EYES    |  BELLY   |      COMA  |\n",
    "|   EXIT  | MACHINE    | HUSKY    |   PERIOD   |\n"
   ]
  },
  {
   "cell_type": "markdown",
   "metadata": {},
   "source": [
    "Create an empty dictionary called `player_to_points`."
   ]
  },
  {
   "cell_type": "code",
   "execution_count": 17,
   "metadata": {},
   "outputs": [],
   "source": [
    "player_to_words = {\"player 1\": [\"BLUE\", \"TENNIS\", \"EXIT\"], \"wordNerd\": [\"EARTH\", \"EYES\", \"MACHINE\"], \"Lexi Con\" : [\"ERASER\", \"BELLY\", \"HUSKY\"], \"Prof Reader\": [\"ZAP\", \"COMA\", \"PERIOD\"]}"
   ]
  },
  {
   "cell_type": "code",
   "execution_count": 24,
   "metadata": {},
   "outputs": [],
   "source": [
    "player_to_points = {}"
   ]
  },
  {
   "cell_type": "markdown",
   "metadata": {},
   "source": [
    "Iterate through the items in `player_to_words`. Call each player player and each list of words words.\n",
    "\n",
    "Within your loop, create a variable called `player_points` and set it to 0."
   ]
  },
  {
   "cell_type": "code",
   "execution_count": 18,
   "metadata": {},
   "outputs": [
    {
     "data": {
      "text/plain": [
       "dict_items([('player 1', ['BLUE', 'TENNIS', 'EXIT']), ('wordNerd', ['EARTH', 'EYES', 'MACHINE']), ('Lexi Con', ['ERASER', 'BELLY', 'HUSKY']), ('Prof Reader', ['ZAP', 'COMA', 'PERIOD'])])"
      ]
     },
     "execution_count": 18,
     "metadata": {},
     "output_type": "execute_result"
    }
   ],
   "source": [
    "player_to_words.items()"
   ]
  },
  {
   "cell_type": "code",
   "execution_count": 25,
   "metadata": {},
   "outputs": [
    {
     "name": "stdout",
     "output_type": "stream",
     "text": [
      "player 1\n",
      "BLUE 6\n",
      "TENNIS 18\n",
      "EXIT 29\n",
      "wordNerd\n",
      "EARTH 8\n",
      "EYES 15\n",
      "MACHINE 32\n",
      "Lexi Con\n",
      "ERASER 6\n",
      "BELLY 16\n",
      "HUSKY 31\n",
      "Prof Reader\n",
      "ZAP 14\n",
      "COMA 22\n",
      "PERIOD 31\n"
     ]
    }
   ],
   "source": [
    "for player,words in player_to_words.items():\n",
    "    player_points = 0\n",
    "#     print(player)\n",
    "    for word in words:\n",
    "        player_points += score_word(word)\n",
    "#         print(word, player_points)\n",
    "    player_to_points[player] = player_points"
   ]
  },
  {
   "cell_type": "code",
   "execution_count": 26,
   "metadata": {},
   "outputs": [
    {
     "name": "stdout",
     "output_type": "stream",
     "text": [
      "{'player 1': 29, 'wordNerd': 32, 'Lexi Con': 31, 'Prof Reader': 31}\n"
     ]
    }
   ],
   "source": [
    "print(player_to_points)"
   ]
  },
  {
   "cell_type": "markdown",
   "metadata": {},
   "source": [
    "After the inner loop ends, set the current player value to be a key of `player_to_points`, with a value of `player_points`."
   ]
  },
  {
   "cell_type": "code",
   "execution_count": null,
   "metadata": {},
   "outputs": [],
   "source": []
  },
  {
   "cell_type": "markdown",
   "metadata": {},
   "source": [
    "`player_to_points` should now contain the mapping of players to how many points they’ve scored. Print this out to see the current standings for this game!\n",
    "\n",
    "If you’ve calculated correctly, wordNerd should be winning by 1 point."
   ]
  },
  {
   "cell_type": "code",
   "execution_count": null,
   "metadata": {},
   "outputs": [],
   "source": []
  }
 ],
 "metadata": {
  "kernelspec": {
   "display_name": "Python 3",
   "language": "python",
   "name": "python3"
  },
  "language_info": {
   "codemirror_mode": {
    "name": "ipython",
    "version": 3
   },
   "file_extension": ".py",
   "mimetype": "text/x-python",
   "name": "python",
   "nbconvert_exporter": "python",
   "pygments_lexer": "ipython3",
   "version": "3.7.1"
  }
 },
 "nbformat": 4,
 "nbformat_minor": 4
}
