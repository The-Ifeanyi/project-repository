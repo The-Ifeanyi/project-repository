{
 "cells": [
  {
   "cell_type": "markdown",
   "metadata": {},
   "source": [
    "## Ginika's Shipping\n",
    "Ginika runs the biggest shipping company in Southern Nigeria, Ginika's Shippers. Ginika wants to make sure that every single one of her customers has the best, and most affordable experience shipping their packages. In this project, you’ll build a program that will take the weight of a package and determine the cheapest way to ship that package using Ginika’s Shippers.\n",
    "\n",
    "Ginika’s Shippers has several different options for a customer to ship their package. They have ground shipping, which is a small flat charge plus a rate based on the weight of your package. Premium ground shipping, which is a much higher flat charge, but you aren’t charged for weight. They recently also implemented drone shipping, which has no flat charge, but the rate based on weight is triple the rate of ground shipping.\n",
    "\n",
    "Here are the prices:"
   ]
  },
  {
   "cell_type": "markdown",
   "metadata": {},
   "source": [
    "### Ground Shipping: \n",
    " \n",
    "|Weight of Package |Price per Pound\t(₦)|Flat Charge (₦)|\n",
    "|------------------|----------------|-----------|\n",
    "|2 lb or less\t   | 540\t        |7200     |\n",
    "|Over 2 lb but less than or equal to 6 lb\t|1080\t|7200|\n",
    "|Over 6 lb but less than or equal to 10 lb\t|1440\t|7200|\n",
    "|Over 10 lb\t|1710\t|7200|"
   ]
  },
  {
   "cell_type": "markdown",
   "metadata": {},
   "source": [
    "### Drone Shipping: \n",
    " \n",
    "|Weight of Package |Price per Pound\t(₦)|Flat Charge (₦)|\n",
    "|------------------|----------------|-----------|\n",
    "|2 lb or less\t   | 1620\t        |0.00   |\n",
    "|Over 2 lb but less than or equal to 6 lb\t|3240\t|0.00 |\n",
    "|Over 6 lb but less than or equal to 10 lb\t|4320\t|0.00 |\n",
    "|Over 10 lb\t|5130\t|0.00 |"
   ]
  },
  {
   "cell_type": "markdown",
   "metadata": {},
   "source": [
    "<h3>Premium Ground Shipping </h3>\n",
    "\n",
    "    Flat charge: ₦45,000.00"
   ]
  },
  {
   "cell_type": "markdown",
   "metadata": {},
   "source": [
    "**Prompt**: Write a program that asks the user for the weight of their package and then tells them which method of shipping is cheapest and how much it will cost to ship their package using Ginika’s Shippers."
   ]
  },
  {
   "cell_type": "code",
   "execution_count": null,
   "metadata": {
    "scrolled": false
   },
   "outputs": [],
   "source": []
  },
  {
   "cell_type": "markdown",
   "metadata": {},
   "source": [
    "## Finding the Cheapest Shipping Method"
   ]
  },
  {
   "cell_type": "markdown",
   "metadata": {},
   "source": [
    "First off, we need to know how much it costs to ship a package of given weight by normal ground shipping.\n",
    "\n",
    "**Write a function for the cost of ground shipping. This function should take one parameter, `weight`, and return the `cost` of shipping a package of that weight.**"
   ]
  },
  {
   "cell_type": "code",
   "execution_count": 1,
   "metadata": {},
   "outputs": [],
   "source": [
    "#Your code here:\n"
   ]
  },
  {
   "cell_type": "markdown",
   "metadata": {},
   "source": [
    "A package that weighs 8.4 pounds should cost ₦19,296 to ship with normal ground shipping:\n",
    "\n",
    "8.4 $lb$ $\\times$ ₦1440 $+$ ₦7200.00 = ₦19,296\n",
    "\n",
    "**Test that your ground shipping function gets the same value.**"
   ]
  },
  {
   "cell_type": "code",
   "execution_count": null,
   "metadata": {},
   "outputs": [],
   "source": [
    "#Your code here:"
   ]
  },
  {
   "cell_type": "markdown",
   "metadata": {},
   "source": [
    "We’ll also need to make sure we include the price of premium ground shipping in our code.\n",
    "\n",
    "**Create a variable for the cost of premium ground shipping.**\n",
    "\n",
    "Note: this does not need to be a function because the price of premium ground shipping does not change with the weight of the package."
   ]
  },
  {
   "cell_type": "code",
   "execution_count": null,
   "metadata": {},
   "outputs": [],
   "source": [
    "#Your code here:"
   ]
  },
  {
   "cell_type": "markdown",
   "metadata": {},
   "source": [
    "**Write a function for the cost of drone shipping. This function should take one parameter, `weight`, and return the cost of shipping a package of that weight.**"
   ]
  },
  {
   "cell_type": "markdown",
   "metadata": {},
   "source": [
    "A package that weighs 1.5 pounds should cost ₦2430 to ship by drone:\n",
    "\n",
    "1.5 $lb$ $\\times$ ₦1620 $+$ ₦0.00 = ₦2430\n",
    "\n",
    "**Test that your drone shipping function gets the same value**"
   ]
  },
  {
   "cell_type": "code",
   "execution_count": null,
   "metadata": {},
   "outputs": [],
   "source": [
    "#Your code here:"
   ]
  },
  {
   "cell_type": "markdown",
   "metadata": {},
   "source": [
    "Using those two functions for ground shipping cost and drone shipping cost, as well as the cost of premium ground shipping, write a function that takes one parameter, `weight` and prints a statement that tells the user\n",
    "\n",
    "- The shipping method that is cheapest.\n",
    "- How much it would cost to ship a package of said weight using this method."
   ]
  },
  {
   "cell_type": "markdown",
   "metadata": {},
   "source": [
    "Great job! Now, test your function!\n",
    "\n",
    "- What is the cheapest method of shipping a 4.8 pound package and how much would it cost?\n",
    "\n",
    "- What is the cheapest method of shipping a 41.5 pound package and how much would it cost?"
   ]
  },
  {
   "cell_type": "code",
   "execution_count": null,
   "metadata": {},
   "outputs": [],
   "source": []
  }
 ],
 "metadata": {
  "kernelspec": {
   "display_name": "Python 3",
   "language": "python",
   "name": "python3"
  },
  "language_info": {
   "codemirror_mode": {
    "name": "ipython",
    "version": 3
   },
   "file_extension": ".py",
   "mimetype": "text/x-python",
   "name": "python",
   "nbconvert_exporter": "python",
   "pygments_lexer": "ipython3",
   "version": "3.7.3"
  }
 },
 "nbformat": 4,
 "nbformat_minor": 4
}
